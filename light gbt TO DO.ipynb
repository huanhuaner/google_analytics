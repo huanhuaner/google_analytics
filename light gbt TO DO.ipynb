{
 "cells": [
  {
   "cell_type": "code",
   "execution_count": 2,
   "metadata": {},
   "outputs": [],
   "source": [
    "import datetime as dt\n",
    "import matplotlib as mp\n",
    "import numpy as np\n",
    "from data_wrangling import *\n",
    "from analytics import *\n",
    "import pandas as pd\n",
    "import numpy as np\n",
    "from sklearn.metrics import mean_squared_error\n",
    "from sklearn.model_selection import train_test_split\n",
    "from sklearn.metrics import average_precision_score\n",
    "from sklearn.ensemble import RandomForestClassifier\n",
    "from sklearn.model_selection import GridSearchCV\n",
    "from xgboost import XGBClassifier\n",
    "import lightgbm as lgb\n",
    "\n",
    "pd.set_option('display.max_columns', 150)\n",
    "# documentation: https://support.google.com/analytics/answer/3437719?hl=en\n",
    "# Note: this field should be unique, but it is not (around 1800 repeated unique_visit_id's)\n",
    "#trainCSV['unique_visit_id'] = trainCSV.fullVisitorId +'_'+ trainCSV.visitId.apply(str)\n",
    "\n",
    "cool_columns = ['fullVisitorId', 'date', 'geoNetwork_city', 'geoNetwork_country', 'device_browser','visits', 'paying_visits', 'totals_transactionRevenue']\n"
   ]
  },
  {
   "cell_type": "code",
   "execution_count": null,
   "metadata": {},
   "outputs": [],
   "source": [
    "%%time\n",
    "\n",
    "trainCSV = pd.read_csv('train_v2_flat.csv', sep=',', encoding='utf-8', low_memory=False).drop(columns=['trafficSource_campaignCode'])\n",
    "trainCSV = fill_empty_values(trainCSV)\n",
    "#trainCSV = trainCSV[cool_columns]\n",
    "\n",
    "#testCSV  = pd.read_csv('test_v2_flat.csv', sep=',', encoding='utf-8', low_memory=False)\n",
    "#testCSV = fill_empty_values(testCSV)\n",
    "\n",
    "start_train_visits = trainCSV.date.min()\n",
    "end_train_visits = trainCSV.date.max() - timedelta(days=276)\n",
    "train_visits = trainCSV[(trainCSV.date >= start_train_visits) & (trainCSV.date<end_train_visits)]\n",
    "validation_visits = trainCSV[(trainCSV.date>= end_train_visits)]\n",
    "#test_visits = testCSV"
   ]
  },
  {
   "cell_type": "code",
   "execution_count": null,
   "metadata": {},
   "outputs": [],
   "source": [
    "%%time\n",
    "train = get_training_data_from_visits(train_visits)\n",
    "validation = get_training_data_from_visits(validation_visits)"
   ]
  },
  {
   "cell_type": "code",
   "execution_count": null,
   "metadata": {},
   "outputs": [],
   "source": [
    "%%time\n",
    "train_e = label_encode_object_dtypes(encoder_trainer = train, df_to_encode = train)\n",
    "validation_e = label_encode_object_dtypes(encoder_trainer = train, df_to_encode = validation)"
   ]
  },
  {
   "cell_type": "code",
   "execution_count": null,
   "metadata": {},
   "outputs": [],
   "source": [
    "#train_e.to_csv(\"train_all_columns.csv\", index=False)\n",
    "#validation_e.to_csv(\"validation_all_columns.csv\", index=False)"
   ]
  },
  {
   "cell_type": "code",
   "execution_count": 3,
   "metadata": {},
   "outputs": [
    {
     "name": "stdout",
     "output_type": "stream",
     "text": [
      "CPU times: user 29 s, sys: 2.21 s, total: 31.2 s\n",
      "Wall time: 31.3 s\n"
     ]
    }
   ],
   "source": [
    "%%time\n",
    "train_data = pd.read_csv(\"train_all_columns.csv\")\n",
    "validation_data = pd.read_csv(\"validation_all_columns.csv\")\n",
    "\n",
    "X_train = train_data.drop(columns=['target'])\n",
    "y_train = train_data.target\n",
    "\n",
    "X_validation = validation_data.drop(columns=['target'])\n",
    "y_validation = validation_data.target"
   ]
  },
  {
   "cell_type": "code",
   "execution_count": 17,
   "metadata": {},
   "outputs": [
    {
     "name": "stdout",
     "output_type": "stream",
     "text": [
      "Starting training...\n",
      "[1]\tvalid_0's l1: 0.0129708\tvalid_0's l2: 0.108423\n",
      "Training until validation scores don't improve for 5 rounds.\n",
      "[2]\tvalid_0's l1: 0.012921\tvalid_0's l2: 0.10832\n",
      "[3]\tvalid_0's l1: 0.012915\tvalid_0's l2: 0.108248\n",
      "[4]\tvalid_0's l1: 0.0128745\tvalid_0's l2: 0.108204\n",
      "[5]\tvalid_0's l1: 0.0128615\tvalid_0's l2: 0.108211\n",
      "[6]\tvalid_0's l1: 0.012806\tvalid_0's l2: 0.1083\n",
      "[7]\tvalid_0's l1: 0.0127846\tvalid_0's l2: 0.108364\n",
      "[8]\tvalid_0's l1: 0.0127576\tvalid_0's l2: 0.108314\n",
      "[9]\tvalid_0's l1: 0.0127436\tvalid_0's l2: 0.108304\n",
      "Early stopping, best iteration is:\n",
      "[4]\tvalid_0's l1: 0.0128745\tvalid_0's l2: 0.108204\n",
      "Saving model...\n",
      "Starting predicting...\n",
      "('The rmse of prediction is:', 0.32894348844984)\n"
     ]
    }
   ],
   "source": [
    "#### # create dataset for lightgbm\n",
    "lgb_train = lgb.Dataset(X_train, y_train)\n",
    "lgb_eval = lgb.Dataset(X_validation, y_validation, reference=lgb_train)\n",
    "\n",
    "# specify your configurations as a dict\n",
    "params = {\n",
    "    'num_leaves': 50,\n",
    "    'min_data_in_leaf': 100,\n",
    "    'max_depth': 30,\n",
    "    'metric': {'l2', 'l1'}\n",
    "    #'boosting_type': 'gbdt',\n",
    "    #'objective': 'regression',\n",
    "    \n",
    "    #'num_leaves': 31,\n",
    "    #'learning_rate': 0.05,\n",
    "    #'feature_fraction': 0.9,\n",
    "    #'bagging_fraction': 0.8,\n",
    "    #'bagging_freq': 5,\n",
    "    #'verbose': 0\n",
    "}\n",
    "\n",
    "print('Starting training...')\n",
    "# train\n",
    "gbm = lgb.train(params,\n",
    "                lgb_train,\n",
    "                num_boost_round=20,\n",
    "                valid_sets=lgb_eval,\n",
    "                early_stopping_rounds=5)\n",
    "\n",
    "print('Saving model...')\n",
    "# save model to file\n",
    "gbm.save_model('model.txt')\n",
    "\n",
    "print('Starting predicting...')\n",
    "# predict\n",
    "y_pred = gbm.predict(X_validation, num_iteration=gbm.best_iteration)\n",
    "# eval\n",
    "print('The rmse of prediction is:', mean_squared_error(y_validation, y_pred) ** 0.5)\n",
    "\n",
    "\n"
   ]
  },
  {
   "cell_type": "code",
   "execution_count": null,
   "metadata": {},
   "outputs": [],
   "source": [
    "y_predicted = regr.predict(X_validation)\n",
    "print \"benchmark_mse\", mean_squared_error(y_validation, y_predicted)\n",
    "print \"benchmark_rmse\",  np.sqrt(mean_squared_error(y_validation, y_predicted))"
   ]
  },
  {
   "cell_type": "code",
   "execution_count": 5,
   "metadata": {},
   "outputs": [
    {
     "name": "stdout",
     "output_type": "stream",
     "text": [
      "benchmark_mse 0.10863334141746757\n",
      "benchmark_rmse 0.329595724209929\n"
     ]
    }
   ],
   "source": [
    "y_all_zeros = [0]*len(y_validation)\n",
    "y_predicted = y_all_zeros\n",
    "print \"benchmark_mse\", mean_squared_error(y_validation, y_all_zeros)\n",
    "print \"benchmark_rmse\",  np.sqrt(mean_squared_error(y_validation, y_all_zeros))"
   ]
  },
  {
   "cell_type": "code",
   "execution_count": null,
   "metadata": {},
   "outputs": [],
   "source": []
  }
 ],
 "metadata": {
  "kernelspec": {
   "display_name": "Python 2",
   "language": "python",
   "name": "python2"
  },
  "language_info": {
   "codemirror_mode": {
    "name": "ipython",
    "version": 2
   },
   "file_extension": ".py",
   "mimetype": "text/x-python",
   "name": "python",
   "nbconvert_exporter": "python",
   "pygments_lexer": "ipython2",
   "version": "2.7.15"
  }
 },
 "nbformat": 4,
 "nbformat_minor": 2
}
