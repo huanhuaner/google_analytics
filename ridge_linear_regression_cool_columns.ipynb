{
 "cells": [
  {
   "cell_type": "code",
   "execution_count": 24,
   "metadata": {},
   "outputs": [],
   "source": [
    "import datetime as dt\n",
    "import matplotlib as mp\n",
    "import numpy as np\n",
    "from analytics import *\n",
    "import pandas as pd\n",
    "import numpy as np\n",
    "from sklearn.linear_model import RidgeCV\n",
    "pd.set_option('display.max_columns', 150)\n",
    "from sklearn.preprocessing import StandardScaler"
   ]
  },
  {
   "cell_type": "code",
   "execution_count": 25,
   "metadata": {},
   "outputs": [
    {
     "name": "stdout",
     "output_type": "stream",
     "text": [
      "CPU times: user 5.52 s, sys: 502 ms, total: 6.03 s\n",
      "Wall time: 6.05 s\n"
     ]
    }
   ],
   "source": [
    "%%time\n",
    "train_data = pd.read_csv(\"train_cool_columns.csv\")\n",
    "validation_data = pd.read_csv(\"validation_cool_columns.csv\")\n",
    "\n",
    "X_train = train_data.drop(columns=['target'])\n",
    "y_train = train_data.target\n",
    "\n",
    "X_validation = validation_data.drop(columns=['target'])\n",
    "y_validation = validation_data.target\n",
    "\n",
    "#X_train = X_train.drop(columns = ['fullVisitorId'])\n",
    "#X_validation = X_validation.drop(columns = ['fullVisitorId'])"
   ]
  },
  {
   "cell_type": "code",
   "execution_count": 26,
   "metadata": {},
   "outputs": [
    {
     "data": {
      "text/plain": [
       "fullVisitorId                              float64\n",
       "geoNetwork_city                            float64\n",
       "geoNetwork_country                         float64\n",
       "device_browser                             float64\n",
       "visits_last_1_months                       float64\n",
       "paying_visits_last_1_months                float64\n",
       "totals_transactionRevenue_last_1_months    float64\n",
       "visits_last_3_months                       float64\n",
       "paying_visits_last_3_months                float64\n",
       "totals_transactionRevenue_last_3_months    float64\n",
       "visits_last_4_months                       float64\n",
       "paying_visits_last_4_months                float64\n",
       "totals_transactionRevenue_last_4_months    float64\n",
       "visits_last_6_months                       float64\n",
       "paying_visits_last_6_months                float64\n",
       "totals_transactionRevenue_last_6_months    float64\n",
       "visits_2_months_ago                        float64\n",
       "paying_visits_2_months_ago                 float64\n",
       "totals_transactionRevenue_2_months_ago     float64\n",
       "visits_3_months_ago                        float64\n",
       "paying_visits_3_months_ago                 float64\n",
       "totals_transactionRevenue_3_months_ago     float64\n",
       "visits_4_months_ago                        float64\n",
       "paying_visits_4_months_ago                 float64\n",
       "totals_transactionRevenue_4_months_ago     float64\n",
       "dtype: object"
      ]
     },
     "execution_count": 26,
     "metadata": {},
     "output_type": "execute_result"
    }
   ],
   "source": [
    "X_train.dtypes"
   ]
  },
  {
   "cell_type": "code",
   "execution_count": 27,
   "metadata": {},
   "outputs": [],
   "source": [
    "X_train = X_train[['fullVisitorId']]\n",
    "X_validation = X_validation[['fullVisitorId']]"
   ]
  },
  {
   "cell_type": "code",
   "execution_count": 28,
   "metadata": {},
   "outputs": [
    {
     "name": "stdout",
     "output_type": "stream",
     "text": [
      "\n",
      " alpha parameters =  [1.00000000e-01 1.66810054e+00 2.78255940e+01 4.64158883e+02\n",
      " 7.74263683e+03 1.29154967e+05 2.15443469e+06 3.59381366e+07\n",
      " 5.99484250e+08 1.00000000e+10]\n",
      "\n",
      " best alpha =  129154.96650148854\n",
      "CPU times: user 1.14 s, sys: 268 ms, total: 1.4 s\n",
      "Wall time: 794 ms\n"
     ]
    }
   ],
   "source": [
    "%%time\n",
    "\n",
    "\n",
    "scaler = StandardScaler()\n",
    "scaler.fit(X_train)\n",
    "X_train = scaler.transform(X_train)\n",
    "X_validation = scaler.transform(X_validation)\n",
    "\n",
    "alphas = 10**np.linspace(-1,10,10)\n",
    "model = RidgeCV(alphas=alphas, cv=2)\n",
    "model.fit(X_train, y_train)\n",
    "print \"\\n alpha parameters = \", alphas\n",
    "print \"\\n best alpha = \", model.alpha_"
   ]
  },
  {
   "cell_type": "code",
   "execution_count": 29,
   "metadata": {},
   "outputs": [
    {
     "name": "stdout",
     "output_type": "stream",
     "text": [
      "train_rmse =  0.2183968600319688\n",
      "train_benchamrk=  0.3581468294578904\n",
      "train_improvement -39.02030059499742\n",
      "validation_rmse =  0.3691002508437752\n",
      "validation_benchmark =  0.329595724209929\n",
      "validation_improvement 11.985752160026388\n"
     ]
    }
   ],
   "source": [
    "# validation_error\n",
    "y_predicted = model.predict(X_validation)\n",
    "v_rmse, v_benchmarks_rmse, v_improvement = evaluate_model(y_validation, y_predicted)\n",
    "\n",
    "## train_error\n",
    "y_predicted = model.predict(X_train)\n",
    "t_rmse, t_benchmarks_rmse, t_improvement = evaluate_model(y_train, y_predicted)\n",
    "\n",
    "\n",
    "print \"train_rmse = \", t_rmse\n",
    "print \"train_benchamrk= \", t_benchmarks_rmse\n",
    "print \"train_improvement\", t_improvement\n",
    "print \"validation_rmse = \", v_rmse\n",
    "print \"validation_benchmark = \", v_benchmarks_rmse\n",
    "print \"validation_improvement\", v_improvement"
   ]
  },
  {
   "cell_type": "code",
   "execution_count": 30,
   "metadata": {},
   "outputs": [
    {
     "data": {
      "text/plain": [
       "array([[-0.02442259],\n",
       "       [-0.02442259],\n",
       "       [-0.02442259],\n",
       "       ...,\n",
       "       [-0.02442259],\n",
       "       [-0.02442259],\n",
       "       [-0.02442259]])"
      ]
     },
     "execution_count": 30,
     "metadata": {},
     "output_type": "execute_result"
    }
   ],
   "source": [
    "X_train"
   ]
  },
  {
   "cell_type": "code",
   "execution_count": null,
   "metadata": {},
   "outputs": [],
   "source": []
  }
 ],
 "metadata": {
  "kernelspec": {
   "display_name": "Python 2",
   "language": "python",
   "name": "python2"
  },
  "language_info": {
   "codemirror_mode": {
    "name": "ipython",
    "version": 2
   },
   "file_extension": ".py",
   "mimetype": "text/x-python",
   "name": "python",
   "nbconvert_exporter": "python",
   "pygments_lexer": "ipython2",
   "version": "2.7.15"
  }
 },
 "nbformat": 4,
 "nbformat_minor": 2
}
